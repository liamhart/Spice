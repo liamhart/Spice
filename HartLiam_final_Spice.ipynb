{
 "cells": [
  {
   "cell_type": "code",
   "execution_count": 1,
   "metadata": {
    "collapsed": false
   },
   "outputs": [],
   "source": [
    "from cuppa3_interp import interp"
   ]
  },
  {
   "cell_type": "code",
   "execution_count": 2,
   "metadata": {
    "collapsed": false
   },
   "outputs": [
    {
     "data": {
      "text/plain": [
       "\"\\nThe goal of this project is to implement the array, or list, whichever you prefer really, data structure \\ninto the cuppa language with the 'splice' functionality, like the one present in python. Arrays here can\\nbe comprised of integers and spliced using integers. This language now understands the concept of storing\\ndata within a 'list' type that can be sliced into smaller sub-lists via bracketed notation.\\n\""
      ]
     },
     "execution_count": 2,
     "metadata": {},
     "output_type": "execute_result"
    }
   ],
   "source": [
    "'''\n",
    "The goal of this project is to implement the array, or list, whichever you prefer really, data structure \n",
    "into the cuppa language with the 'splice' functionality, like the one present in python. Arrays here can\n",
    "be comprised of integers and spliced using integers. This language now understands the concept of storing\n",
    "data within a 'list' type that can be sliced into smaller sub-lists via bracketed notation.\n",
    "'''"
   ]
  },
  {
   "cell_type": "code",
   "execution_count": 3,
   "metadata": {
    "collapsed": true
   },
   "outputs": [],
   "source": [
    "'''\n",
    "Test one, make sure the interpreter runs on old code, i.e no syntax errors or problems with grammar\n",
    "'''\n",
    "\n",
    "add = \\\n",
    "'''\n",
    "declare add(a,b) \n",
    "{\n",
    "    return a+b;\n",
    "}\n",
    "\n",
    "declare x = add(3,2);\n",
    "put x;\n",
    "'''"
   ]
  },
  {
   "cell_type": "code",
   "execution_count": 4,
   "metadata": {
    "collapsed": false,
    "scrolled": true
   },
   "outputs": [
    {
     "name": "stdout",
     "output_type": "stream",
     "text": [
      "> 5\n"
     ]
    }
   ],
   "source": [
    "interp(add)"
   ]
  },
  {
   "cell_type": "code",
   "execution_count": 5,
   "metadata": {
    "collapsed": true
   },
   "outputs": [],
   "source": [
    "'''\n",
    "Test two, with our data structure initialized to a\n",
    "'''\n",
    "\n",
    "array = \\\n",
    "'''\n",
    "declare a;\n",
    "a = [1,2,3];\n",
    "\n",
    "\n",
    "put a;\n",
    "'''"
   ]
  },
  {
   "cell_type": "code",
   "execution_count": 6,
   "metadata": {
    "collapsed": false
   },
   "outputs": [
    {
     "name": "stdout",
     "output_type": "stream",
     "text": [
      "> ['integer', 1, 'integer', 2, 'integer', 3]\n"
     ]
    }
   ],
   "source": [
    "interp(array)"
   ]
  },
  {
   "cell_type": "code",
   "execution_count": 7,
   "metadata": {
    "collapsed": true
   },
   "outputs": [],
   "source": [
    "'''\n",
    "Test three, same code but with a slice taken from a\n",
    "'''\n",
    "\n",
    "b_slice = \\\n",
    "'''\n",
    "declare a;\n",
    "a = [1,2,3];\n",
    "\n",
    "\n",
    "put a[0:1];\n",
    "'''"
   ]
  },
  {
   "cell_type": "code",
   "execution_count": 8,
   "metadata": {
    "collapsed": false
   },
   "outputs": [
    {
     "name": "stdout",
     "output_type": "stream",
     "text": [
      "> [1, 2]\n"
     ]
    }
   ],
   "source": [
    "interp(b_slice)"
   ]
  },
  {
   "cell_type": "code",
   "execution_count": 9,
   "metadata": {
    "collapsed": true
   },
   "outputs": [],
   "source": [
    "'''\n",
    "Test four, more slicing!\n",
    "'''\n",
    "\n",
    "slice_demo =\\\n",
    "'''\n",
    "declare b;\n",
    "\n",
    "b = [0,1,2,3,4,5,6,7,8,9,10];\n",
    "\n",
    "declare c = b[0:2];\n",
    "declare d = b[3:5];\n",
    "declare e = b[6:9];\n",
    "\n",
    "put c;\n",
    "put d;\n",
    "put e;\n",
    "\n",
    "'''"
   ]
  },
  {
   "cell_type": "code",
   "execution_count": 10,
   "metadata": {
    "collapsed": false
   },
   "outputs": [
    {
     "name": "stdout",
     "output_type": "stream",
     "text": [
      "> [0, 1, 2]\n",
      "> [3, 4, 5]\n",
      "> [6, 7, 8, 9]\n"
     ]
    }
   ],
   "source": [
    "interp(slice_demo)"
   ]
  },
  {
   "cell_type": "code",
   "execution_count": 11,
   "metadata": {
    "collapsed": true
   },
   "outputs": [],
   "source": [
    "'''\n",
    "Test five, is integer splicing possible?\n",
    "'''\n",
    "\n",
    "int_slice_demo =\\\n",
    "'''\n",
    "declare a = 12000[0:4]\n",
    "\n",
    "put a;\n",
    "\n",
    "'''"
   ]
  },
  {
   "cell_type": "code",
   "execution_count": 12,
   "metadata": {
    "collapsed": false
   },
   "outputs": [
    {
     "name": "stdout",
     "output_type": "stream",
     "text": [
      "> 1200\n"
     ]
    }
   ],
   "source": [
    "interp(int_slice_demo)"
   ]
  },
  {
   "cell_type": "code",
   "execution_count": 13,
   "metadata": {
    "collapsed": false
   },
   "outputs": [
    {
     "data": {
      "text/plain": [
       "'\\nAs you can see, even integer slicing is possible. Why is this important? Aside from just wantonly adding more functionality\\nto my ints, this can be used practically when looking at significant figures in data, instead of sifting through and\\nrecording them manually, or writing a long function to do so, this int splicing allows a nice shorthand method to be used instead\\n\\n'"
      ]
     },
     "execution_count": 13,
     "metadata": {},
     "output_type": "execute_result"
    }
   ],
   "source": [
    "'''\n",
    "As you can see, even integer slicing is possible. Why is this important? Aside from just wantonly adding more functionality\n",
    "to my ints, this can be used practically when looking at significant figures in data, instead of sifting through and\n",
    "recording them manually, or writing a long function to do so, this int splicing allows a nice shorthand method to be used instead\n",
    "\n",
    "'''"
   ]
  },
  {
   "cell_type": "code",
   "execution_count": null,
   "metadata": {
    "collapsed": true
   },
   "outputs": [],
   "source": []
  }
 ],
 "metadata": {
  "kernelspec": {
   "display_name": "Python 3",
   "language": "python",
   "name": "python3"
  },
  "language_info": {
   "codemirror_mode": {
    "name": "ipython",
    "version": 3
   },
   "file_extension": ".py",
   "mimetype": "text/x-python",
   "name": "python",
   "nbconvert_exporter": "python",
   "pygments_lexer": "ipython3",
   "version": "3.6.0"
  }
 },
 "nbformat": 4,
 "nbformat_minor": 2
}
